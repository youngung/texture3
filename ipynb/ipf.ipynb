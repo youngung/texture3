{
 "cells": [
  {
   "cell_type": "code",
   "execution_count": 1,
   "metadata": {},
   "outputs": [
    {
     "name": "stdout",
     "output_type": "stream",
     "text": [
      "%pylab is deprecated, use %matplotlib inline and import the required libraries.\n",
      "Populating the interactive namespace from numpy and matplotlib\n"
     ]
    }
   ],
   "source": [
    "%pylab inline"
   ]
  },
  {
   "cell_type": "code",
   "execution_count": 2,
   "metadata": {},
   "outputs": [
    {
     "name": "stdout",
     "output_type": "stream",
     "text": [
      "     pf_for_lib is not available in the system\n",
      "** joblib was not found - will not be used in TX.upf\n"
     ]
    }
   ],
   "source": [
    "from TX import upf\n",
    "import subprocess\n",
    "import os\n",
    "from TX import bcc_rolling_fiber\n",
    "vector_ang=bcc_rolling_fiber.vector_ang"
   ]
  },
  {
   "cell_type": "markdown",
   "metadata": {},
   "source": [
    "## single point"
   ]
  },
  {
   "cell_type": "code",
   "execution_count": 3,
   "metadata": {},
   "outputs": [
    {
     "data": {
      "image/png": "[encoded data removed]",
      "text/plain": [
       "<Figure size 300x300 with 1 Axes>"
      ]
     },
     "metadata": {},
     "output_type": "display_data"
    }
   ],
   "source": [
    "mypf=upf.polefigure(grains=[[0,35,30,1]],csym='cubic')\n",
    "d=mypf.ipf(pole=[1,0,0],color='k',marker='.')"
   ]
  },
  {
   "cell_type": "markdown",
   "metadata": {},
   "source": [
    "## calculate the arc of great circles between two crystal \"plane normals\""
   ]
  },
  {
   "cell_type": "code",
   "execution_count": 4,
   "metadata": {},
   "outputs": [],
   "source": [
    "!gfortran -c crystal_vectors.f -o crystal_vectors.o\n",
    "!gfortran -c lib7.f -o lib7.o\n",
    "!gfortran -c modified_crystal_symmetry.f -o crys_sym.o"
   ]
  },
  {
   "cell_type": "code",
   "execution_count": 5,
   "metadata": {},
   "outputs": [
    {
     "name": "stdout",
     "output_type": "stream",
     "text": [
      "True\n",
      "True\n",
      "True\n",
      "True\n",
      "True\n",
      "True\n",
      "True\n",
      "True\n",
      "comp_comd: gfortran crystal_vectors.o lib7.o crys_sym.o /Users/youngung/repo/evpsc/objdir/chg_basis.o /Users/youngung/repo/evpsc/objdir/voigt.o /Users/youngung/repo/evpsc/objdir/fake_xit.o /Users/youngung/repo/evpsc/objdir/funcs.o /Users/youngung/repo/evpsc/objdir/lu_libs.o /Users/youngung/repo/evpsc/objdir/lib_write.o /Users/youngung/repo/evpsc/objdir/thermo_emod_cte.o /Users/youngung/repo/evpsc/objdir/sx_version_tester.o -o calc_cv\n",
      "\n",
      "\n"
     ]
    }
   ],
   "source": [
    "dir_evpsc_repo='/Users/youngung/repo/evpsc/'\n",
    "objfs=['chg_basis.o','voigt.o','fake_xit.o',#'data_crystal_fe.o',\n",
    "       'funcs.o','lu_libs.o','lib_write.o',#'crystal_symmetry.o',\n",
    "      'thermo_emod_cte.o','sx_version_tester.o']\n",
    "# append the location\n",
    "for i, o in enumerate(objfs): objfs[i]=os.path.join(dir_evpsc_repo,'objdir',o)\n",
    "for i, o in enumerate(objfs):\n",
    "    print(os.path.isfile(o))\n",
    "#    \n",
    "comp_cmd='gfortran crystal_vectors.o lib7.o crys_sym.o'\n",
    "for i, o in enumerate(objfs):\n",
    "    comp_cmd=f'{comp_cmd} {o}'\n",
    "comp_cmd=f'{comp_cmd} -o calc_cv'\n",
    "print(f'comp_comd: {comp_cmd}')\n",
    "p=subprocess.Popen(comp_cmd.split(),stdout=subprocess.PIPE,stderr=subprocess.PIPE)\n",
    "stdo,stde=p.communicate()\n",
    "print(stdo.decode())\n",
    "print(stde.decode())"
   ]
  },
  {
   "cell_type": "code",
   "execution_count": 6,
   "metadata": {},
   "outputs": [
    {
     "name": "stdout",
     "output_type": "stream",
     "text": [
      "/Users/youngung/repo/evpsc/matData/vpscData/AA_jinhwa/sx_Al6061_affine.sx\n"
     ]
    }
   ],
   "source": [
    "ls ~/repo/evpsc/matData/vpscData/AA_jinhwa/sx_Al6061_affine.sx"
   ]
  },
  {
   "cell_type": "code",
   "execution_count": 7,
   "metadata": {},
   "outputs": [
    {
     "name": "stdout",
     "output_type": "stream",
     "text": [
      "  # of symmetry operations=  24\n",
      "  symmetry matrices\n",
      "  1  1.000  0.000  0.000  0.000  1.000  0.000  0.000  0.000  1.000\n",
      "  2  0.000  0.000  1.000  1.000  0.000  0.000  0.000  1.000  0.000\n",
      "  3  0.000  1.000  0.000  0.000  0.000  1.000  1.000  0.000  0.000\n",
      "  4  0.000  1.000  0.000  1.000  0.000  0.000  0.000  0.000  1.000\n",
      "  5  1.000  0.000  0.000  0.000  0.000  1.000  0.000  1.000  0.000\n",
      "  6  0.000  0.000  1.000  0.000  1.000  0.000  1.000  0.000  0.000\n",
      "  7 -0.000 -1.000  0.000  1.000 -0.000  0.000  0.000  0.000  1.000\n",
      "  8 -1.000  0.000 -0.000 -0.000  0.000  1.000  0.000  1.000  0.000\n",
      "  9  0.000 -0.000 -1.000  0.000  1.000 -0.000  1.000  0.000  0.000\n",
      " 10 -1.000 -0.000  0.000 -0.000  1.000  0.000  0.000  0.000  1.000\n",
      " 11 -0.000  0.000 -1.000  1.000  0.000 -0.000  0.000  1.000  0.000\n",
      " 12  0.000 -1.000 -0.000  0.000 -0.000  1.000  1.000  0.000  0.000\n",
      " 13 -1.000  0.000  0.000 -0.000 -1.000  0.000  0.000  0.000  1.000\n",
      " 14  0.000  0.000 -1.000 -1.000  0.000 -0.000  0.000  1.000  0.000\n",
      " 15  0.000 -1.000  0.000  0.000 -0.000 -1.000  1.000  0.000  0.000\n",
      " 16  0.000 -1.000  0.000 -1.000 -0.000  0.000  0.000  0.000  1.000\n",
      " 17 -1.000  0.000  0.000 -0.000  0.000 -1.000  0.000  1.000  0.000\n",
      " 18  0.000  0.000 -1.000  0.000 -1.000 -0.000  1.000  0.000  0.000\n",
      " 19  0.000  1.000  0.000 -1.000  0.000  0.000  0.000  0.000  1.000\n",
      " 20  1.000  0.000  0.000  0.000  0.000 -1.000  0.000  1.000  0.000\n",
      " 21  0.000  0.000  1.000  0.000 -1.000  0.000  1.000  0.000  0.000\n",
      " 22  1.000  0.000  0.000  0.000 -1.000  0.000  0.000  0.000  1.000\n",
      " 23  0.000  0.000  1.000 -1.000  0.000  0.000  0.000  1.000  0.000\n",
      " 24  0.000  1.000  0.000  0.000  0.000 -1.000  1.000  0.000  0.000\n",
      "  0.57735026918962473       0.57735029442640917       0.57735024395284240     \n",
      "  0.70710676573223519       0.70710679664085685        0.0000000000000000     \n",
      " npoles:           4\n",
      "  0.577  0.577  0.577\n",
      " -0.577  0.577  0.577\n",
      " -0.577 -0.577  0.577\n",
      "  0.577 -0.577  0.577\n",
      " npoles:           6\n",
      "  0.707  0.707  0.000\n",
      "  0.000  0.707  0.707\n",
      "  0.707  0.000  0.707\n",
      " -0.707  0.707  0.000\n",
      " -0.707 -0.000  0.707\n",
      "  0.000 -0.707  0.707\n"
     ]
    }
   ],
   "source": [
    "!./calc_cv ~/repo/evpsc/matData/vpscData/AA_jinhwa/sx_Al6061_affine.sx 1 1 1 1 1 0"
   ]
  },
  {
   "cell_type": "code",
   "execution_count": 67,
   "metadata": {},
   "outputs": [],
   "source": [
    "def calc_cvec(miller,fnsx):\n",
    "    \"\"\"\n",
    "    Get a crystal vector of a Miller-indexed plane normal\n",
    "    \"\"\"\n",
    "    cmd=f'./calc_cv {fnsx}'\n",
    "    for i, ind in enumerate(miller): cmd=f'{cmd} {ind}'\n",
    "    cmd=f'{cmd}  '\n",
    "    #print(f'cmd: {cmd}')\n",
    "    p=subprocess.Popen(cmd.split(),stdout=subprocess.PIPE,stderr=subprocess.PIPE)\n",
    "    stdo,stde=p.communicate()\n",
    "    #print(f'\\n\\n** stdo: {stdo.decode()}')\n",
    "    lines=stdo.decode().split('\\n')\n",
    "    nsymop=int(lines[0].split('=')[-1])\n",
    "    lines[1:2+nsymop]\n",
    "    return np.array(lines[2+nsymop:][0].split(),dtype='float')\n",
    "    #return np.array(stdo.decode().split('\\n')[0].split(),dtype='float')\n",
    "\n",
    "def calc_symop(fnsx):\n",
    "    cmd=f'./calc_cv {fnsx}'\n",
    "    miller=[1,0,0,0]\n",
    "    for i, ind in enumerate(miller): cmd=f'{cmd} {ind}'\n",
    "    cmd=f'{cmd}  '\n",
    "    # print(f'cmd: {cmd}')\n",
    "    p=subprocess.Popen(cmd.split(),stdout=subprocess.PIPE,stderr=subprocess.PIPE)\n",
    "    stdo,stde=p.communicate()\n",
    "    # print(f'\\n\\n** stdo: {stdo.decode()}')\n",
    "    lines=stdo.decode().split('\\n')\n",
    "    nsymop=int(lines[0].split('=')[-1])\n",
    "    lines=lines[2:2+nsymop]\n",
    "    #print(lines[0])\n",
    "    #print(lines[-1])\n",
    "    #for i in range(3):\n",
    "    h=np.zeros((nsymop,3,3))\n",
    "    for m, line in enumerate(lines):\n",
    "        d=np.array(line.split()[1:],dtype='float')\n",
    "        k=0\n",
    "        for i in range(3):\n",
    "            for j in range(3):\n",
    "                h[m,i,j]=d[k]\n",
    "                k=k+1\n",
    "        #print(f'h: {h[m,:,:]}')\n",
    "    return h\n",
    "\n",
    "def proj(a):\n",
    "    #print(f'a.shape:, {a.shape}')\n",
    "    #print(f'len(a.shape): {len(a.shape)}')\n",
    "    if len(a.shape)>1:\n",
    "        vs=a.copy()\n",
    "    elif len(a.shape)==1:\n",
    "        vs=np.zeros((1,3))\n",
    "        vs[0,:]=a[::]\n",
    "    nvec=vs.shape[0]\n",
    "    coords=np.zeros((nvec,2))\n",
    "    for i, v in enumerate(vs):\n",
    "        coords[i,:]=upf.projection(v,[[0.,0.,0.,1]])\n",
    "    if len(a.shape)>1: return coords            \n",
    "    elif len(a.shape)==1: return coords[0]\n",
    "\n",
    "def circ():\n",
    "    ths=np.linspace(-pi,pi)\n",
    "    x=cos(ths);   y=sin(ths)\n",
    "    return x,y\n",
    "\n",
    "def gen_fig(nrows=3,ncols=3,colsize=2.5,rowsize=2.,**kwargs):\n",
    "    gs=GridSpec(nrows=nrows,ncols=ncols,**kwargs)\n",
    "    fig=plt.figure(figsize=(colsize*ncols,rowsize*nrows))\n",
    "    axes=np.empty((nrows,ncols),dtype='object')\n",
    "    for i in range(nrows):\n",
    "        for j in range(ncols):\n",
    "            ax=fig.add_subplot(gs[i,j])\n",
    "            axes[i,j]=ax\n",
    "    return fig,axes"
   ]
  },
  {
   "cell_type": "code",
   "execution_count": 34,
   "metadata": {},
   "outputs": [],
   "source": [
    "def calc_vref_and_rot(a,b,fnsx,nang):\n",
    "    \"\"\"\n",
    "    Given a miller-indexed crystal plane normal (a and b),\n",
    "    calclulate the v ref and rotation matrices vref.\n",
    "    \"\"\"\n",
    "    aca=-calc_cvec(a,fnsx)\n",
    "    #print(f'b in calc_vref_and_rot {b}')\n",
    "    bca=-calc_cvec(b,fnsx)\n",
    "    #print(f'bca in calc_vref_and_rot {bca}')\n",
    "    ## reference vector\n",
    "    vref=np.cross(aca,bca)\n",
    "    #print(f'vref: {vref}')\n",
    "    #print(f'aca: {aca}')\n",
    "\n",
    "    ##\n",
    "    thf=np.arccos(np.dot(aca,bca))\n",
    "    #print(f'thf: {np.rad2deg(thf)}')\n",
    "    ths=np.linspace(0,thf,nang)\n",
    "    rots=np.zeros((nang,3,3))\n",
    "    varc=np.zeros((nang,3))\n",
    "    \n",
    "    for i, th in enumerate(ths):\n",
    "        rots[i,:,:]=vector_ang(vref,np.rad2deg(th))\n",
    "    return aca, bca, thf, vref, rots\n",
    "    \n",
    "    \n",
    "def calc_arc(aca,rots):#a,b,fnsx,nang):\n",
    "    \"\"\"\n",
    "    Arguments\n",
    "    ---------\n",
    "    aca crystal direction\n",
    "    rots: rotation matrix\n",
    "    \"\"\"\n",
    "\n",
    "    #aca, bca, thf, verf, rot = calc_vref_and_rot(a,b,fnsx,nang)\n",
    "    nang=rots.shape[0]\n",
    "    v_arc=np.zeros((nang,3))\n",
    "    for i,rot in enumerate(rots):\n",
    "        v_arc[i,:]=np.dot(rot,aca)\n",
    "    return v_arc\n"
   ]
  },
  {
   "cell_type": "code",
   "execution_count": 35,
   "metadata": {},
   "outputs": [],
   "source": [
    "def get_ipf_boundary(\n",
    "    a=[0,0,1],b=[1,0,1],c=[1,1,1],nres=5,\n",
    "    fnsx=None):\n",
    "    \n",
    "    pairs=[[a,b],[b,c],[c,a]]\n",
    "    coords=np.zeros((2,(nres-1)*3+1))\n",
    "\n",
    "    for i, pair in enumerate(pairs[:3]):\n",
    "        #varc,vref=calc_arc(*pair,fnsx,nres)\n",
    "        #print(varc.shape)\n",
    "        aca,bca,thf,vref,rots=calc_vref_and_rot(*pair,fnsx,nres)\n",
    "        varc=calc_arc(aca,rots)\n",
    "        xy=proj(varc)\n",
    "        i0=i*(nres-1)\n",
    "        i1=i0+nres-1\n",
    "        #print(f'i0,i1, {i0,i1}')\n",
    "        coords[:,i0:i1]=xy[0:-1,:].T\n",
    "    coords[:,-1]=coords[:,0]\n",
    "    return coords\n"
   ]
  },
  {
   "cell_type": "code",
   "execution_count": 142,
   "metadata": {},
   "outputs": [],
   "source": [
    "def ipf_temp(**kw):\n",
    "    \"\"\"\n",
    "    Create inverse pole figure boundaries (consisting of triangle and circle)\n",
    "    \"\"\"\n",
    "    kw.update(nres=1000)\n",
    "    bound1=get_ipf_boundary(**kw)\n",
    "    bound2=upf.__circle__()\n",
    "    bound2=np.array(bound2)\n",
    "    return bound1, bound2"
   ]
  },
  {
   "cell_type": "code",
   "execution_count": 37,
   "metadata": {},
   "outputs": [
    {
     "name": "stdout",
     "output_type": "stream",
     "text": [
      "/Users/youngung/repo/evpsc/matData/vpscData/AA_jinhwa/al6061_100.cmb\n",
      "/Users/youngung/repo/evpsc/matData/vpscData/AA_jinhwa/al6061_1000.cmb\n",
      "/Users/youngung/repo/evpsc/matData/vpscData/AA_jinhwa/al6061_500.cmb\n"
     ]
    }
   ],
   "source": [
    "ls /Users/youngung/repo/evpsc/matData/vpscData/AA_jinhwa/*.cmb"
   ]
  },
  {
   "cell_type": "code",
   "execution_count": 116,
   "metadata": {},
   "outputs": [
    {
     "data": {
      "text/plain": [
       "<ufunc 'arctan2'>"
      ]
     },
     "execution_count": 116,
     "metadata": {},
     "output_type": "execute_result"
    }
   ],
   "source": [
    "np.arctan2"
   ]
  },
  {
   "cell_type": "code",
   "execution_count": 144,
   "metadata": {},
   "outputs": [],
   "source": [
    "def xy2_rtheta(x,y):\n",
    "    \"\"\"\n",
    "    Convert from stereographically projected locations (X,Y)\n",
    "    to that in 'R, Theta'\n",
    "    \"\"\"\n",
    "    r=np.sqrt(x**2+y**2)\n",
    "    th=np.arctan2(y,x)\n",
    "    return r, th\n"
   ]
  },
  {
   "cell_type": "code",
   "execution_count": 169,
   "metadata": {},
   "outputs": [
    {
     "name": "stdout",
     "output_type": "stream",
     "text": [
      "/Users/youngung/repo/evpsc/examples/ex12_dd/uranium/uranium_voce.sx\n"
     ]
    }
   ],
   "source": [
    "ls /Users/youngung/repo/evpsc/examples/ex12_dd/uranium/uranium_voce.sx"
   ]
  },
  {
   "cell_type": "markdown",
   "metadata": {},
   "source": [
    "## Choice of single crystal and texture"
   ]
  },
  {
   "cell_type": "code",
   "execution_count": 176,
   "metadata": {},
   "outputs": [],
   "source": [
    "#kw=dict(a=[0,0,0,1],b=[1,0,-1,0],c=[2,-1,-1,0], fnsx='/Users/youngung/repo/evpsc/matData/vpscData/CP-Ti-ICN/dd_015.sx')\n",
    "kw=dict(a=[0,0,1],b=[1,0,1],c=[1,1,1],fnsx='/Users/youngung/repo/evpsc/matData/vpscData/AA_jinhwa/sx_Al6061_affine.sx')\n",
    "#kw=dict(a=[0,0,1],b=[1,0,0],c=[0,1,0],fnsx='/Users/youngung/repo/evpsc/examples/ex12_dd/uranium/uranium_voce.sx')\n",
    "#fnodf='/Users/youngung/repo/evpsc/matData/vpscData/AA_jinhwa/aa6061T6.odf'\n",
    "fntx='/Users/youngung/repo/evpsc/matData/vpscData/AA_jinhwa/al6061_100.cmb'\n",
    "#fntx='/Users/youngung/repo/evpsc/matData/vpscData/AA_jinhwa/al6061_1000.cmb'"
   ]
  },
  {
   "cell_type": "code",
   "execution_count": 177,
   "metadata": {},
   "outputs": [
    {
     "data": {
      "text/plain": [
       "(-4.71238898038469, 4.71238898038469)"
      ]
     },
     "execution_count": 177,
     "metadata": {},
     "output_type": "execute_result"
    },
    {
     "data": {
      "image/png": "[encoded data removed]",
      "text/plain": [
       "<Figure size 1500x500 with 3 Axes>"
      ]
     },
     "metadata": {},
     "output_type": "display_data"
    }
   ],
   "source": [
    "## canvas\n",
    "fig,axes=gen_fig(nrows=1,ncols=3,colsize=5,rowsize=5)\n",
    "\n",
    "## deco\n",
    "triangle,circle=ipf_temp(**kw)\n",
    "axes[0,0].plot(*triangle,'-b',lw=3,zorder=10)\n",
    "axes[0,0].plot(*circle,'-g',lw=3,zorder=10)\n",
    "r,t = xy2_rtheta(*triangle)\n",
    "flg=r>0.00; r=r[flg]; t=t[flg]\n",
    "axes[0,1].plot(t,r,'-b',lw=3,zorder=10)\n",
    "axes[0,2].plot(t,r,'-b',lw=3,zorder=10)\n",
    "r,t = xy2_rtheta(*circle)\n",
    "axes[0,1].plot(t,r,'-g',lw=3,zorder=10)\n",
    "##\n",
    "\n",
    "csymop=calc_symop(fnsx=kw['fnsx']) ## crystal symmetry operator\n",
    "\n",
    "mypf=upf.polefigure(filename=fntx,csym='cubic')\n",
    "mypf.gr=mypf.gr[:100,:]\n",
    "\n",
    "p_sa=[1,0,0] ## sample axis 1\n",
    "p_sa=np.array(p_sa)\n",
    "#p_sa=p_sa/np.sqrt((p_sa**2).sum())\n",
    "dth=9.\n",
    "dph=9.\n",
    "p_ca=np.zeros((mypf.ngr,4))\n",
    "# calculates its crystal direction\n",
    "for i, gr in enumerate(mypf.gr):\n",
    "    phi1,phi,phi2,wgt=gr[:4]\n",
    "    amat=upf.euler(phi1,phi,phi2,a=None,echo=False) # ca <- sa\n",
    "    p_ca[i,:3]=np.dot(amat,p_sa)\n",
    "    p_ca[i,3]=wgt\n",
    "    for iop, h in enumerate(csymop):\n",
    "        p=np.dot(h,p_ca[i,:3])\n",
    "        x,y=upf.projection(p)\n",
    "        r,theta = xy2_rtheta(x,y)\n",
    "        if p[2]<0: ## pointing to the south pole\n",
    "            axes[0,0].plot(x,y,'r.')\n",
    "            axes[0,1].plot(theta,r,'r.')\n",
    "        if p[2]>=0:\n",
    "            axes[0,0].plot(x,y,'k.')\n",
    "            axes[0,1].plot(theta,r,'k.')\n",
    "\n",
    "## Full Sphere (-pi, +pi) and (0, pi)                                                                                                                                                  \n",
    "#x = np.arange(-180., 180.+tiny, dth) ## in-plane rotation                                                                                                                             \n",
    "#y = np.arange(   0., 180.+tiny, dph) ## tilting                                                                                                                                       \n",
    "nx, ny = int(360./dth), int(180./dph)\n",
    "f = np.zeros((nx,ny))\n",
    "\n",
    "## Semi Sphere (-pi, +pi) and (0, pi/2)                                                                                                                                                \n",
    "tiny=1e-10\n",
    "x_node = np.arange(-180.,180.+tiny,dth) ## in-plane rotation                                                                                                                           \n",
    "y_node = np.arange(   0., 90.+tiny,dph) ## tilting                                                                                                                                     \n",
    "nx_node = len(x_node); ny_node = len(y_node)\n",
    "nodes = np.zeros((nx_node,ny_node))\n",
    "#f = upf.pole2f(p_ca[:,:3],p_ca[:,3],dth,dph,f.copy())\n",
    "\n",
    "\n",
    "axes[0,0].set_axis_off()\n",
    "axes[0,0].set_aspect('equal')\n",
    "axes[0,0].set_xlim(-1.1,1.1)\n",
    "axes[0,0].set_ylim(-1.1,1.1)\n",
    "axes[0,1].set_ylim(-0.2,1.5)\n",
    "axes[0,1].set_xlim(-1.5*np.pi,1.5*np.pi)"
   ]
  },
  {
   "cell_type": "code",
   "execution_count": null,
   "metadata": {},
   "outputs": [],
   "source": [
    "\n",
    "\n",
    "\n",
    "\n"
   ]
  },
  {
   "cell_type": "code",
   "execution_count": null,
   "metadata": {},
   "outputs": [],
   "source": []
  },
  {
   "cell_type": "code",
   "execution_count": null,
   "metadata": {},
   "outputs": [],
   "source": []
  },
  {
   "cell_type": "code",
   "execution_count": null,
   "metadata": {},
   "outputs": [],
   "source": []
  },
  {
   "cell_type": "code",
   "execution_count": null,
   "metadata": {},
   "outputs": [],
   "source": []
  },
  {
   "cell_type": "code",
   "execution_count": null,
   "metadata": {},
   "outputs": [],
   "source": []
  },
  {
   "cell_type": "code",
   "execution_count": null,
   "metadata": {},
   "outputs": [],
   "source": []
  },
  {
   "cell_type": "code",
   "execution_count": null,
   "metadata": {},
   "outputs": [],
   "source": [
    "a=[0,0,1]\n",
    "b=[1,0,1]\n",
    "c=[1,1,1]\n",
    "fnsx='/Users/youngung/repo/evpsc/matData/vpscData/AA_jinhwa/sx_Al6061_affine.sx'\n",
    "kw=dict(a=a,b=b,c=c,nres=5,\n",
    "        fnsx=fnsx)\n",
    "\n",
    "## inverse pole figure boundaries\n",
    "boundary=get_ipf_boundary(**kw)\n",
    "fig=plt.figure();ax=fig.add_subplot(111)\n",
    "ax.plot(boundary[0],boundary[1],'k-o',mfc='None',alpha=0.2)\n",
    "## Find arcs between a and b vectors\n",
    "n_rad=6 ## from [0,0,1] towards the outer \n",
    "n_polar = 10\n",
    "print(f'b in line 13: {b}')\n",
    "aca, bca, thf_radian, vref, rots_rad_bottom = calc_vref_and_rot(a,b,fnsx,n_rad)\n",
    "aca, cca, thf_radian, vref, rots_rad_top    = calc_vref_and_rot(a,c,fnsx,n_rad)\n",
    "\n",
    "for i, rot in enumerate(rots_rad_bottom[1:,:,:]):\n",
    "    rot_top = rots_rad_top[i+1,:,:]\n",
    "    vref_ab=np.dot(rot,aca) ## \n",
    "    vref_ac=np.dot(rot_top,aca) ##\n",
    "    l,=plot(*proj(vref_ab),'+')\n",
    "    plot(*proj(vref_ac),'o',c=l.get_color())\n",
    "\n",
    "    ## get arc between the bottom and top. (from bottom line towards top line)\n",
    "    ths=np.linspace(0,thf,n_polar)\n",
    "    rots_polar=np.zeros((n_polar,3,3))\n",
    "        \n",
    "\n",
    "\n",
    "## deco\n",
    "ax.set_aspect('equal')\n",
    "ax.set_axis_off()\n",
    "\n",
    "\n",
    "\n"
   ]
  },
  {
   "cell_type": "code",
   "execution_count": null,
   "metadata": {},
   "outputs": [],
   "source": [
    "c=get_ipf_boundary(\n",
    "    fnsx='/Users/youngung/repo/evpsc/matData/vpscData/CP-Ti-ICN/dd_015.sx',\n",
    "    a=[0,0,0,1],\n",
    "    b=[1,0,-1,0],\n",
    "    c=[2,-1,-1,0])\n",
    "fig=plt.figure();ax=fig.add_subplot(111)\n",
    "ax.plot(c[0],c[1],'-')\n",
    "ax.set_aspect('equal')\n",
    "ax.set_axis_off()"
   ]
  },
  {
   "cell_type": "code",
   "execution_count": null,
   "metadata": {},
   "outputs": [],
   "source": []
  }
 ],
 "metadata": {
  "kernelspec": {
   "display_name": "Python 3 (ipykernel)",
   "language": "python",
   "name": "python3"
  },
  "language_info": {
   "codemirror_mode": {
    "name": "ipython",
    "version": 3
   },
   "file_extension": ".py",
   "mimetype": "text/x-python",
   "name": "python",
   "nbconvert_exporter": "python",
   "pygments_lexer": "ipython3",
   "version": "3.12.2"
  }
 },
 "nbformat": 4,
 "nbformat_minor": 4
}
