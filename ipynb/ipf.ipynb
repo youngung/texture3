{
 "cells": [
  {
   "cell_type": "code",
   "execution_count": 1,
   "metadata": {},
   "outputs": [
    {
     "name": "stdout",
     "output_type": "stream",
     "text": [
      "%pylab is deprecated, use %matplotlib inline and import the required libraries.\n",
      "Populating the interactive namespace from numpy and matplotlib\n"
     ]
    }
   ],
   "source": [
    "%pylab inline"
   ]
  },
  {
   "cell_type": "code",
   "execution_count": 2,
   "metadata": {},
   "outputs": [
    {
     "name": "stdout",
     "output_type": "stream",
     "text": [
      "     pf_for_lib is not available in the system\n",
      "** joblib was not found - will not be used in TX.upf\n"
     ]
    }
   ],
   "source": [
    "from TX import upf\n",
    "import subprocess\n",
    "import os\n",
    "from TX import bcc_rolling_fiber\n",
    "vector_ang=bcc_rolling_fiber.vector_ang"
   ]
  },
  {
   "cell_type": "markdown",
   "metadata": {},
   "source": [
    "## single point"
   ]
  },
  {
   "cell_type": "code",
   "execution_count": 3,
   "metadata": {},
   "outputs": [
    {
     "data": {
      "image/png": "[encoded data removed]",
      "text/plain": [
       "<Figure size 300x300 with 1 Axes>"
      ]
     },
     "metadata": {},
     "output_type": "display_data"
    }
   ],
   "source": [
    "mypf=upf.polefigure(grains=[[0,35,30,1]],csym='cubic')\n",
    "d=mypf.ipf(pole=[1,0,0],color='k',marker='.')"
   ]
  },
  {
   "cell_type": "markdown",
   "metadata": {},
   "source": [
    "## calculate the arc of great circles between two crystal \"plane normals\""
   ]
  },
  {
   "cell_type": "code",
   "execution_count": 4,
   "metadata": {},
   "outputs": [],
   "source": [
    "!gfortran -c crystal_vectors.f -o crystal_vectors.o\n",
    "!gfortran -c lib7.f -o lib7.o"
   ]
  },
  {
   "cell_type": "code",
   "execution_count": 5,
   "metadata": {},
   "outputs": [
    {
     "name": "stdout",
     "output_type": "stream",
     "text": [
      "True\n",
      "True\n",
      "True\n",
      "True\n",
      "True\n",
      "True\n",
      "True\n",
      "True\n",
      "True\n",
      "True\n",
      "comp_comd: gfortran crystal_vectors.o lib7.f /Users/youngung/repo/evpsc/objdir/chg_basis.o /Users/youngung/repo/evpsc/objdir/voigt.o /Users/youngung/repo/evpsc/objdir/fake_xit.o /Users/youngung/repo/evpsc/objdir/data_crystal_fe.o /Users/youngung/repo/evpsc/objdir/funcs.o /Users/youngung/repo/evpsc/objdir/lu_libs.o /Users/youngung/repo/evpsc/objdir/lib_write.o /Users/youngung/repo/evpsc/objdir/crystal_symmetry.o /Users/youngung/repo/evpsc/objdir/thermo_emod_cte.o /Users/youngung/repo/evpsc/objdir/sx_version_tester.o -o calc_cv\n",
      "\n",
      "\n"
     ]
    }
   ],
   "source": [
    "dir_evpsc_repo='/Users/youngung/repo/evpsc/'\n",
    "objfs=['chg_basis.o','voigt.o','fake_xit.o','data_crystal_fe.o',\n",
    "       'funcs.o','lu_libs.o','lib_write.o','crystal_symmetry.o',\n",
    "       'thermo_emod_cte.o','sx_version_tester.o']\n",
    "# append the location\n",
    "for i, o in enumerate(objfs): objfs[i]=os.path.join(dir_evpsc_repo,'objdir',o)\n",
    "for i, o in enumerate(objfs):\n",
    "    print(os.path.isfile(o))\n",
    "#    \n",
    "comp_cmd='gfortran crystal_vectors.o lib7.f'\n",
    "for i, o in enumerate(objfs):\n",
    "    comp_cmd=f'{comp_cmd} {o}'\n",
    "comp_cmd=f'{comp_cmd} -o calc_cv'\n",
    "print(f'comp_comd: {comp_cmd}')\n",
    "p=subprocess.Popen(comp_cmd.split(),stdout=subprocess.PIPE,stderr=subprocess.PIPE)\n",
    "stdo,stde=p.communicate()\n",
    "print(stdo.decode())\n",
    "print(stde.decode())"
   ]
  },
  {
   "cell_type": "code",
   "execution_count": 6,
   "metadata": {},
   "outputs": [
    {
     "name": "stdout",
     "output_type": "stream",
     "text": [
      "/Users/youngung/repo/evpsc/matData/vpscData/AA_jinhwa/sx_Al6061_affine.sx\n"
     ]
    }
   ],
   "source": [
    "ls ~/repo/evpsc/matData/vpscData/AA_jinhwa/sx_Al6061_affine.sx"
   ]
  },
  {
   "cell_type": "code",
   "execution_count": 7,
   "metadata": {},
   "outputs": [
    {
     "name": "stdout",
     "output_type": "stream",
     "text": [
      "  0.57735026918962573       0.57735026918962784       0.57735026918962373     \n",
      "  0.70710678118654624       0.70710678118654868        0.0000000000000000     \n",
      " npoles:           0\n",
      " npoles:           0\n"
     ]
    }
   ],
   "source": [
    "!./calc_cv ~/repo/evpsc/matData/vpscData/AA_jinhwa/sx_Al6061_affine.sx 1 1 1 1 1 0"
   ]
  },
  {
   "cell_type": "code",
   "execution_count": 8,
   "metadata": {},
   "outputs": [],
   "source": [
    "def calc_cvec(miller,fnsx):\n",
    "    \"\"\"\n",
    "    Get a crystal vector of a Miller-indexed plane normal\n",
    "    \"\"\"\n",
    "    cmd=f'./calc_cv {fnsx}'\n",
    "    for i, ind in enumerate(miller): cmd=f'{cmd} {ind}'\n",
    "    cmd=f'{cmd}  '\n",
    "    #print(f'cmd: {cmd}')\n",
    "    p=subprocess.Popen(cmd.split(),stdout=subprocess.PIPE,stderr=subprocess.PIPE)\n",
    "    stdo,stde=p.communicate()\n",
    "    #print(f'\\n\\n** stdo: {stdo.decode()}')\n",
    "    return np.array(stdo.decode().split('\\n')[0].split(),dtype='float')\n",
    "\n",
    "def proj(a):\n",
    "    #print(f'a.shape:, {a.shape}')\n",
    "    if len(a.shape)>1:\n",
    "        vs=a.copy()\n",
    "    elif len(a.shape)==1:\n",
    "        vs=np.zeros((1,3))\n",
    "        vs[0,:]=a[::]\n",
    "    nvec=vs.shape[0]\n",
    "    coords=np.zeros((nvec,2))\n",
    "    for i, v in enumerate(vs):\n",
    "        coords[i,:]=upf.projection(v,[[0.,0.,0.,1]])\n",
    "    return coords            \n",
    "\n",
    "def circ():\n",
    "    ths=np.linspace(-pi,pi)\n",
    "    x=cos(ths);   y=sin(ths)\n",
    "    return x,y"
   ]
  },
  {
   "cell_type": "code",
   "execution_count": 9,
   "metadata": {},
   "outputs": [],
   "source": [
    "def calc_vref_and_rot(a,b,fnsx,nang):\n",
    "    \"\"\"\n",
    "    Given a miller-indexed crystal plane normal (a and b),\n",
    "    calclulate the v ref and rotation matrices vref.\n",
    "    \"\"\"\n",
    "    aca=-calc_cvec(a,fnsx)\n",
    "    bca=-calc_cvec(b,fnsx)\n",
    "    ## reference vector\n",
    "    vref=np.cross(aca,bca)\n",
    "    #print(f'vref: {vref}')\n",
    "    #print(f'aca: {aca}')\n",
    "\n",
    "    ##\n",
    "    thf=np.arccos(np.dot(aca,bca))\n",
    "    #print(f'thf: {np.rad2deg(thf)}')\n",
    "    ths=np.linspace(0,thf,nang)\n",
    "    rots=np.zeros((nang,3,3))\n",
    "    varc=np.zeros((nang,3))\n",
    "    \n",
    "    for i, th in enumerate(ths):\n",
    "        rots[i,:,:]=vector_ang(vref,np.rad2deg(th))\n",
    "    return aca, bca, thf, vref, rots\n",
    "    \n",
    "    \n",
    "def calc_arc(aca,rots):#a,b,fnsx,nang):\n",
    "    \"\"\"\n",
    "    Arguments\n",
    "    ---------\n",
    "    aca crystal direction\n",
    "    \"\"\"\n",
    "\n",
    "    #aca, bca, thf, verf, rot = calc_vref_and_rot(a,b,fnsx,nang)\n",
    "    nang=rots.shape[0]\n",
    "    varc=np.zeros((nang,3))\n",
    "    for i,rot in enumerate(rots):\n",
    "        varc[i,:]=np.dot(rot,aca)\n",
    "        \n",
    "    return varc\n"
   ]
  },
  {
   "cell_type": "code",
   "execution_count": 10,
   "metadata": {},
   "outputs": [],
   "source": [
    "def get_ipf_boundary(\n",
    "    a=[0,0,1],b=[1,0,1],c=[1,1,1],\n",
    "    fnsx='/Users/youngung/repo/evpsc/matData/vpscData/AA_jinhwa/sx_Al6061_affine.sx'):\n",
    "    \n",
    "    nres=100\n",
    "    pairs=[[a,b],[b,c],[c,a]]\n",
    "    coords=np.zeros((2,(nres-1)*3+1))\n",
    "\n",
    "    \n",
    "\n",
    "    \n",
    "    for i, pair in enumerate(pairs[:3]):\n",
    "        #varc,vref=calc_arc(*pair,fnsx,nres)\n",
    "        #print(varc.shape)\n",
    "        aca,bca,thf,vref,rots=calc_vref_and_rot(*pair,fnsx,nres)\n",
    "        varc=calc_arc(aca,rots)\n",
    "        xy=proj(varc)\n",
    "        i0=i*(nres-1)\n",
    "        i1=i0+nres-1\n",
    "        print(f'i0,i1, {i0,i1}')\n",
    "        coords[:,i0:i1]=xy[0:-1,:].T\n",
    "    coords[:,-1]=coords[:,0]\n",
    "    return coords\n"
   ]
  },
  {
   "cell_type": "code",
   "execution_count": 11,
   "metadata": {},
   "outputs": [
    {
     "name": "stdout",
     "output_type": "stream",
     "text": [
      "i0,i1, (0, 99)\n",
      "i0,i1, (99, 198)\n",
      "i0,i1, (198, 297)\n"
     ]
    },
    {
     "data": {
      "image/png": "[encoded data removed]",
      "text/plain": [
       "<Figure size 640x480 with 1 Axes>"
      ]
     },
     "metadata": {},
     "output_type": "display_data"
    }
   ],
   "source": [
    "a=[0,0,1]\n",
    "b=[1,0,1]\n",
    "c=[1,1,1]\n",
    "kw=dict(a=a,b=b,c=c,fnsx='/Users/youngung/repo/evpsc/matData/vpscData/AA_jinhwa/sx_Al6061_affine.sx')\n",
    "\n",
    "## inverse pole figure boundaries\n",
    "boundary=get_ipf_boundary(**kw)\n",
    "fig=plt.figure();ax=fig.add_subplot(111)\n",
    "ax.plot(boundary[0],boundary[1],'-')\n",
    "## Find arcs between a and b vectors\n",
    "\n",
    "\n",
    "ax.set_aspect('equal')\n",
    "ax.set_axis_off()\n"
   ]
  },
  {
   "cell_type": "code",
   "execution_count": 12,
   "metadata": {},
   "outputs": [
    {
     "name": "stdout",
     "output_type": "stream",
     "text": [
      "i0,i1, (0, 99)\n",
      "i0,i1, (99, 198)\n",
      "i0,i1, (198, 297)\n"
     ]
    },
    {
     "data": {
      "image/png": "[encoded data removed]",
      "text/plain": [
       "<Figure size 640x480 with 1 Axes>"
      ]
     },
     "metadata": {},
     "output_type": "display_data"
    }
   ],
   "source": [
    "c=get_ipf_boundary(\n",
    "    fnsx='/Users/youngung/repo/evpsc/matData/vpscData/CP-Ti-ICN/dd_015.sx',\n",
    "    a=[0,0,0,1],\n",
    "    b=[1,0,-1,0],\n",
    "    c=[2,-1,-1,0])\n",
    "fig=plt.figure();ax=fig.add_subplot(111)\n",
    "ax.plot(c[0],c[1],'-')\n",
    "ax.set_aspect('equal')\n",
    "ax.set_axis_off()"
   ]
  }
 ],
 "metadata": {
  "kernelspec": {
   "display_name": "Python 3 (ipykernel)",
   "language": "python",
   "name": "python3"
  },
  "language_info": {
   "codemirror_mode": {
    "name": "ipython",
    "version": 3
   },
   "file_extension": ".py",
   "mimetype": "text/x-python",
   "name": "python",
   "nbconvert_exporter": "python",
   "pygments_lexer": "ipython3",
   "version": "3.12.2"
  }
 },
 "nbformat": 4,
 "nbformat_minor": 4
}
