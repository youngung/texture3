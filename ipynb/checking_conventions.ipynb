{
 "cells": [
  {
   "cell_type": "code",
   "execution_count": 1,
   "metadata": {},
   "outputs": [
    {
     "name": "stdout",
     "output_type": "stream",
     "text": [
      "Populating the interactive namespace from numpy and matplotlib\n"
     ]
    }
   ],
   "source": [
    "%pylab inline"
   ]
  },
  {
   "cell_type": "code",
   "execution_count": 2,
   "metadata": {},
   "outputs": [
    {
     "name": "stdout",
     "output_type": "stream",
     "text": [
      "** joblib was not found - will not be used in TX.upf\n"
     ]
    }
   ],
   "source": [
    "from TX import upf"
   ]
  },
  {
   "cell_type": "code",
   "execution_count": 3,
   "metadata": {
    "scrolled": false
   },
   "outputs": [
    {
     "name": "stdout",
     "output_type": "stream",
     "text": [
      "\r",
      "Elapsed time for calculting dots:           4 [ ms]"
     ]
    },
    {
     "name": "stderr",
     "output_type": "stream",
     "text": [
      "/Users/youngung/.local/share/virtualenvs/evpsc-TeXtxic1/lib/python3.8/site-packages/TX/upf.py:2536: VisibleDeprecationWarning: Creating an ndarray from ragged nested sequences (which is a list-or-tuple of lists-or-tuples-or ndarrays with different lengths or shapes) is deprecated. If you meant to do this, you must specify 'dtype=object' when creating the ndarray\n",
      "  pf_dots=np.array(pf_dots)\n"
     ]
    },
    {
     "data": {
      "image/png": "[encoded data removed]",
      "text/plain": [
       "<Figure size 475.2x216 with 2 Axes>"
      ]
     },
     "metadata": {
      "needs_background": "light"
     },
     "output_type": "display_data"
    }
   ],
   "source": [
    "grains=[[0,0,0,1]]\n",
    "mypf=upf.polefigure(csym='cubic',grains=grains)\n",
    "fig=mypf.pf_new(mode='dot',marker='+',color='r',s=40,alpha=1)\n",
    "#fig=mypf.pf_new()"
   ]
  },
  {
   "cell_type": "code",
   "execution_count": 4,
   "metadata": {},
   "outputs": [
    {
     "name": "stdout",
     "output_type": "stream",
     "text": [
      "/Users/youngung/.pyenv/versions/3.8.0/bin/python\r\n"
     ]
    }
   ],
   "source": [
    "!which python"
   ]
  },
  {
   "cell_type": "code",
   "execution_count": 5,
   "metadata": {},
   "outputs": [
    {
     "data": {
      "text/plain": [
       "(array([[-6.123234e-17,  1.000000e+00,  1.000000e+00],\n",
       "        [ 6.123234e-17, -1.000000e+00,  1.000000e+00],\n",
       "        [-1.000000e+00, -6.123234e-17,  1.000000e+00],\n",
       "        [ 1.000000e+00,  6.123234e-17,  1.000000e+00],\n",
       "        [-0.000000e+00, -0.000000e+00,  1.000000e+00]]),\n",
       " None)"
      ]
     },
     "execution_count": 5,
     "metadata": {},
     "output_type": "execute_result"
    }
   ],
   "source": [
    "grains=[[0,0,0,1]]\n",
    "mypf=upf.polefigure(csym='cubic',grains=grains)\n",
    "#fig=plt.figure(1)\n",
    "mypf.dotplot(pole=[1,0,0],agrain=[0,0,0,1],proj='pf')"
   ]
  },
  {
   "cell_type": "code",
   "execution_count": 6,
   "metadata": {},
   "outputs": [
    {
     "data": {
      "text/plain": [
       "'/Users/youngung/.local/share/virtualenvs/evpsc-TeXtxic1/lib/python3.8/site-packages/TX/upf.py'"
      ]
     },
     "execution_count": 6,
     "metadata": {},
     "output_type": "execute_result"
    }
   ],
   "source": [
    "upf.__file__"
   ]
  },
  {
   "cell_type": "code",
   "execution_count": null,
   "metadata": {},
   "outputs": [],
   "source": []
  }
 ],
 "metadata": {
  "kernelspec": {
   "display_name": "Python 3",
   "language": "python",
   "name": "python3"
  },
  "language_info": {
   "codemirror_mode": {
    "name": "ipython",
    "version": 3
   },
   "file_extension": ".py",
   "mimetype": "text/x-python",
   "name": "python",
   "nbconvert_exporter": "python",
   "pygments_lexer": "ipython3",
   "version": "3.8.6"
  }
 },
 "nbformat": 4,
 "nbformat_minor": 2
}
