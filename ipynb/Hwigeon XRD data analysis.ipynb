{
 "cells": [
  {
   "cell_type": "code",
   "execution_count": 1,
   "metadata": {},
   "outputs": [
    {
     "name": "stdout",
     "output_type": "stream",
     "text": [
      "\n",
      "UXD (BRUKER D8 DISCOVER) to epf(popLA compatible) converter\n",
      "developed on (2010-Dec-29)\n",
      "\n",
      "YOUNGUNG JEONG\n",
      "   Materials Mechanics Laboratory,\n",
      "   GIFT, POSTECH\n",
      "\n",
      "Editor used : GNU Emacs\n",
      "\n",
      "planned feature\n",
      " 1. Background subtraction\n",
      " 2. Defocusing correction\n",
      " 3. Convert UXD file into EPF\n",
      " 4. Make and save defocuse data\n",
      " 5. All features need be interactive for later modifications\n",
      " 6. pole figure monitoring with respect to corrections (bg, dfc)\n",
      "\n",
      "\n",
      "\n",
      "UXD 2THETA - INTENSITY PROFILE plotting software\n",
      "  developed on (2011-Jan-25)\n",
      "\n",
      "  ** UXD 2theta scan plotter with different khis..\n",
      "  ** This job may require 3D plotting with one of three axes being the khi.\n",
      "\n",
      "\n",
      "***************************************\n",
      " Experimental polefigure post-processor\n",
      "***************************************\n",
      "Exemplery use,\n",
      ">> import uxd>> myPF = uxd.pf(filename ='as_R.UXD',,\n",
      " echo = False, mode='pf', bgmode='auto',,\n",
      " monitoring = False)\n",
      " uxd.pf class has arguments,\n",
      " : filename, echo(False, True), mode('pf','df'),,\n",
      " bgmode('manual','auto', None)\n",
      " >> polefigures = myPF.INTENSITIES\n",
      " >> pole0 = np.array(polefigures[0])\n",
      " >> uxd.pfsplot(pfs=pole0)     ---> This will show up the pole figure\n",
      "\n",
      "***************************************\n",
      "   2theta(fixed khi)-intensity plotting\n",
      "***************************************\n",
      ">> x,y,khi = uxd.prof(filename='304.uxd')\n",
      ">> plot(x,y) ...\n",
      "\n",
      "** joblib was not found - will not be used in TX.upf\n"
     ]
    }
   ],
   "source": [
    "from TX import uxd"
   ]
  },
  {
   "cell_type": "code",
   "execution_count": null,
   "metadata": {
    "scrolled": false
   },
   "outputs": [
    {
     "name": "stdout",
     "output_type": "stream",
     "text": [
      "\n",
      "---------------------------\n",
      "POLE FIGURE AQUISITION MODE\n",
      "---------------------------\n",
      "\n",
      "** Total number of data blocks:  187\n",
      "00 40.0\n",
      "01 44.72\n",
      "02 50.0\n",
      "03 52.3\n",
      "04 57.0\n",
      "05 76.96\n",
      "06 87.0\n",
      "07 92.8\n",
      "08 93.0\n",
      "09 93.96\n",
      "10 95.3\n",
      "\n",
      "\n",
      "PF # 1\n",
      "peak at Bragg the 2theta of  44.72\n",
      "delta alpha  =  5.0  delta khi =  5.0     step time : 2.0     step size : 5.0\n",
      "PF # 2\n",
      "peak at Bragg the 2theta of  52.3\n",
      "delta alpha  =  5.0  delta khi =  5.0     step time : 2.0     step size : 5.0\n",
      "PF # 3\n",
      "peak at Bragg the 2theta of  76.96\n",
      "delta alpha  =  5.0  delta khi =  5.0     step time : 2.0     step size : 5.0\n",
      "PF # 4\n",
      "peak at Bragg the 2theta of  93.96\n",
      "delta alpha  =  5.0  delta khi =  5.0     step time : 2.0     step size : 5.0\n",
      "\n",
      "\n",
      "BG # 1\n",
      "peak at Bragg the 2theta of  40.0\n",
      " delta khi   =  5.0     step time : 20.0     step size : 5.0\n",
      "BG # 2\n",
      "peak at Bragg the 2theta of  50.0\n",
      " delta khi   =  5.0     step time : 20.0     step size : 5.0\n",
      "BG # 3\n",
      "peak at Bragg the 2theta of  57.0\n",
      " delta khi   =  5.0     step time : 20.0     step size : 5.0\n",
      "BG # 4\n",
      "peak at Bragg the 2theta of  87.0\n",
      " delta khi   =  5.0     step time : 20.0     step size : 5.0\n",
      "BG # 5\n",
      "peak at Bragg the 2theta of  93.0\n",
      " delta khi   =  5.0     step time : 20.0     step size : 5.0\n",
      "BG # 6\n",
      "peak at Bragg the 2theta of  92.8\n",
      " delta khi   =  5.0     step time : 20.0     step size : 5.0\n",
      "BG # 7\n",
      "peak at Bragg the 2theta of  95.3\n",
      " delta khi   =  5.0     step time : 20.0     step size : 5.0\n"
     ]
    }
   ],
   "source": [
    "mypf=uxd.pf(filename='/Users/youngung/proj/dat/XRD/Numisheet2018/al_x0y-25_R.UXD',\n",
    "            bgmode='manual',\n",
    "            dfc=['/Users/youngung/repo/popla/dfc/fss0.dfc',\n",
    "                 '/Users/youngung/repo/popla/dfc/fss1.dfc',\n",
    "                 '/Users/youngung/repo/popla/dfc/fss2.dfc'])"
   ]
  },
  {
   "cell_type": "code",
   "execution_count": 16,
   "metadata": {},
   "outputs": [
    {
     "name": "stdout",
     "output_type": "stream",
     "text": [
      "Animate_PF.ipynb                 UPF_test.ipynb\r\n",
      "Hwigeon XRD data analysis.ipynb  dual-phase.pdf\r\n",
      "Mg_texture.pdf                   dum_al.epf\r\n",
      "Mg_texture.png                   fss.pdf\r\n",
      "\u001b[36mTimo\u001b[m\u001b[m/                            gammaFibAni.gif\r\n",
      "UPF_Algorithm.ipynb              ipf.ipynb\r\n",
      "UPF_EPF.ipynb\r\n"
     ]
    }
   ],
   "source": [
    "ls "
   ]
  },
  {
   "cell_type": "code",
   "execution_count": 17,
   "metadata": {},
   "outputs": [
    {
     "name": "stdout",
     "output_type": "stream",
     "text": [
      "dum_al.epf\r\n"
     ]
    }
   ],
   "source": [
    "ls *.epf"
   ]
  },
  {
   "cell_type": "code",
   "execution_count": 18,
   "metadata": {},
   "outputs": [
    {
     "data": {
      "text/plain": [
       "u'/Users/youngung/repo/texture/ipynb'"
      ]
     },
     "execution_count": 18,
     "metadata": {},
     "output_type": "execute_result"
    }
   ],
   "source": [
    "pwd"
   ]
  }
 ],
 "metadata": {
  "kernelspec": {
   "display_name": "Python 2",
   "language": "python",
   "name": "python2"
  },
  "language_info": {
   "codemirror_mode": {
    "name": "ipython",
    "version": 2
   },
   "file_extension": ".py",
   "mimetype": "text/x-python",
   "name": "python",
   "nbconvert_exporter": "python",
   "pygments_lexer": "ipython2",
   "version": "2.7.14"
  }
 },
 "nbformat": 4,
 "nbformat_minor": 2
}
