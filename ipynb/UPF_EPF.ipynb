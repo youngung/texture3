{
 "cells": [
  {
   "cell_type": "markdown",
   "metadata": {},
   "source": [
    "# Plotting experimental pole figures in the form of EPF (popLA)"
   ]
  },
  {
   "cell_type": "code",
   "execution_count": null,
   "metadata": {
    "collapsed": false
   },
   "outputs": [],
   "source": [
    "%pylab inline"
   ]
  },
  {
   "cell_type": "code",
   "execution_count": null,
   "metadata": {
    "collapsed": false
   },
   "outputs": [],
   "source": [
    "from TX import upf"
   ]
  },
  {
   "cell_type": "markdown",
   "metadata": {},
   "source": [
    "- File named 'fss.epf' in the format of popla. Find in below that the miller index for the pole is parenthesized - the parenthesis are used as delimiter bewteen pole figure blocks"
   ]
  },
  {
   "cell_type": "code",
   "execution_count": null,
   "metadata": {
    "collapsed": false
   },
   "outputs": [],
   "source": [
    "!head -n 4 ../ExampleFiles/dp780.epf"
   ]
  },
  {
   "cell_type": "markdown",
   "metadata": {},
   "source": [
    "- There are three types: Bruker, steglich, epf. Type 'epf' for popLA format when prompted"
   ]
  },
  {
   "cell_type": "code",
   "execution_count": null,
   "metadata": {
    "collapsed": false
   },
   "outputs": [],
   "source": [
    "mypf=upf.polefigure(epf='../ExampleFiles/dp780.epf')"
   ]
  },
  {
   "cell_type": "markdown",
   "metadata": {},
   "source": [
    "- The example pole figure was measured using X-ray upto a tilting angle of 80. To indicate the boundary of $\\psi=80^\\circ{}$, use $\\verb|iline_khi80=True|$ - a broken gray line shows up."
   ]
  },
  {
   "cell_type": "markdown",
   "metadata": {},
   "source": [
    "- Also, there are three pole figure blocks present in the file. Thus, three pole figures are plotted"
   ]
  },
  {
   "cell_type": "code",
   "execution_count": null,
   "metadata": {
    "collapsed": false
   },
   "outputs": [],
   "source": [
    "fig=mypf.pf_new(iline_khi80=True,mn=0.8)\n",
    "fig.tight_layout()\n",
    "fig.savefig('dual-phase.pdf',bbox_inches='tight')"
   ]
  },
  {
   "cell_type": "code",
   "execution_count": null,
   "metadata": {
    "collapsed": false
   },
   "outputs": [],
   "source": [
    "!head -n 15 ../ExampleFiles/UniformA.xpc"
   ]
  },
  {
   "cell_type": "code",
   "execution_count": null,
   "metadata": {
    "collapsed": false
   },
   "outputs": [],
   "source": [
    "mypf=upf.polefigure(epf='../ExampleFiles/UniformA.xpc')\n",
    "fig=mypf.pf_new(iline_khi80=True,mn=0.8)"
   ]
  }
 ],
 "metadata": {
  "kernelspec": {
   "display_name": "Python [default]",
   "language": "python",
   "name": "python2"
  },
  "language_info": {
   "codemirror_mode": {
    "name": "ipython",
    "version": 2
   },
   "file_extension": ".py",
   "mimetype": "text/x-python",
   "name": "python",
   "nbconvert_exporter": "python",
   "pygments_lexer": "ipython2",
   "version": "2.7.13"
  }
 },
 "nbformat": 4,
 "nbformat_minor": 0
}
