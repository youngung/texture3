{
 "cells": [
  {
   "cell_type": "code",
   "execution_count": 1,
   "metadata": {},
   "outputs": [
    {
     "name": "stdout",
     "output_type": "stream",
     "text": [
      "Populating the interactive namespace from numpy and matplotlib\n"
     ]
    }
   ],
   "source": [
    "%pylab inline\n",
    "plt.style.use('dark_background')"
   ]
  },
  {
   "cell_type": "code",
   "execution_count": 2,
   "metadata": {},
   "outputs": [],
   "source": [
    "from TX import cmb, upf\n",
    "import subprocess"
   ]
  },
  {
   "cell_type": "code",
   "execution_count": 3,
   "metadata": {},
   "outputs": [],
   "source": [
    "odf='/Users/youngung/repo/mymtex_analysis/mooyeong/eddq.odf'"
   ]
  },
  {
   "cell_type": "code",
   "execution_count": null,
   "metadata": {},
   "outputs": [
    {
     "name": "stdout",
     "output_type": "stream",
     "text": [
      "max values 360.0  90.0  90.0\n",
      "maximum angles along each axis\n",
      "phi1: 360.00\n",
      "phi2:  90.00\n",
      "phi :  90.00\n",
      "minimum angles along each axis\n",
      "phi1:   0.00\n",
      "phi2:   0.00\n",
      "phi :   0.00\n",
      "ssym: None ngrain= 10000\n",
      "phi1, phi, phi2 360.0 90.0 90.0\n"
     ]
    }
   ],
   "source": [
    "%%time\n",
    "myrve=cmb.RVE(fmt='mtex',ngrain=10000,\n",
    "              cmbfile='/tmp/dum.tex',\n",
    "              odf=odf)\n",
    "mypf=upf.polefigure(filename='/tmp/dum.tex',csym='cubic',)\n",
    "fig=mypf.pf_new(poles=[[0,0,1],[0,1,1,],[1,1,1]],mode='line')"
   ]
  }
 ],
 "metadata": {
  "kernelspec": {
   "display_name": "3.8.6",
   "language": "python",
   "name": "3.8.6"
  },
  "language_info": {
   "codemirror_mode": {
    "name": "ipython",
    "version": 3
   },
   "file_extension": ".py",
   "mimetype": "text/x-python",
   "name": "python",
   "nbconvert_exporter": "python",
   "pygments_lexer": "ipython3",
   "version": "3.8.6"
  }
 },
 "nbformat": 4,
 "nbformat_minor": 4
}
