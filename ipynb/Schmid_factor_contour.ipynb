{
 "cells": [
  {
   "cell_type": "markdown",
   "id": "7ebe0c77-5a0b-4789-bc87-e20f1b744152",
   "metadata": {},
   "source": [
    "# Prep"
   ]
  },
  {
   "cell_type": "code",
   "execution_count": 1,
   "id": "43a85f66-a3dc-4998-a9db-6a324422849c",
   "metadata": {},
   "outputs": [
    {
     "name": "stdout",
     "output_type": "stream",
     "text": [
      "     pf_for_lib is not available in the system\n",
      "** joblib was not found - will not be used in TX.upf\n"
     ]
    }
   ],
   "source": [
    "%matplotlib inline\n",
    "import matplotlib.pyplot as plt\n",
    "import numpy as np\n",
    "import time\n",
    "import subprocess\n",
    "import pandas as pd\n",
    "from MP import read_blocks\n",
    "from glob import glob\n",
    "from TX import upf, cod_section\n",
    "from matplotlib.gridspec import GridSpec\n",
    "import os\n",
    "from TX import euler\n",
    "\n",
    "def gen_fig(nrows=3,ncols=3,colsize=2.5,rowsize=2.,**kwargs):\n",
    "    gs=GridSpec(nrows=nrows,ncols=ncols,**kwargs)\n",
    "    fig=plt.figure(figsize=(colsize*ncols,rowsize*nrows))\n",
    "    axes=np.empty((nrows,ncols),dtype='object')\n",
    "    for i in range(nrows):\n",
    "        for j in range(ncols):\n",
    "            ax=fig.add_subplot(gs[i,j])\n",
    "            axes[i,j]=ax\n",
    "    return fig,axes\n",
    "\n",
    "def cart2voigt(sig):\n",
    "    s6=np.zeros(6)\n",
    "    for iv in range(6):\n",
    "        i,j=ijvs[iv]\n",
    "        s6[iv]=sig[i,j]\n",
    "    return s6\n",
    "def transf(R,A):\n",
    "    \"\"\"\n",
    "    B[i,j]= R[i,k] R[j,l] A[k,l]\n",
    "    \"\"\"\n",
    "    B=np.zeros((3,3))\n",
    "    for i in range(3):\n",
    "        for j in range(3):       \n",
    "            for k in range(3):\n",
    "                for l in range(3):\n",
    "                    B[i,j]=B[i,j]+R[i,k]*R[j,l]*A[k,l]\n",
    "    return B    "
   ]
  },
  {
   "cell_type": "markdown",
   "id": "cc1ca087-7fe0-47f6-98da-a0396657b054",
   "metadata": {},
   "source": [
    "# Build _schmid_factor_ executable"
   ]
  },
  {
   "cell_type": "code",
   "execution_count": 2,
   "id": "87431eee-fe17-426a-a2dc-79eaa7307350",
   "metadata": {},
   "outputs": [],
   "source": [
    "loc_obj='/Users/youngung/repo/evpsc/objdir/'"
   ]
  },
  {
   "cell_type": "code",
   "execution_count": 3,
   "id": "42f9478a-084c-41fb-a68c-9a4d7821c002",
   "metadata": {},
   "outputs": [
    {
     "name": "stdout",
     "output_type": "stream",
     "text": [
      "/Users/youngung/repo/evpsc\n",
      "make: `evpsc' is up to date.\n",
      "cmd: gfortran schmid_factor.o /Users/youngung/repo/evpsc/objdir/crystal_symmetry.o /Users/youngung/repo/evpsc/objdir/chg_basis.o /Users/youngung/repo/evpsc/objdir/voigt.o /Users/youngung/repo/evpsc/objdir/fake_xit.o /Users/youngung/repo/evpsc/objdir/data_crystal_fe.o /Users/youngung/repo/evpsc/objdir/funcs.o /Users/youngung/repo/evpsc/objdir/lu_libs.o /Users/youngung/repo/evpsc/objdir/thermo_emod_cte.o /Users/youngung/repo/evpsc/objdir/lib_write.o lib7.o -o schmid_factor\n",
      "\n",
      "\n"
     ]
    }
   ],
   "source": [
    "!cd {loc_obj}/.. && pwd && make -j evpsc &&cd -\n",
    "\n",
    "#!cp -v ../../evpsc/src/vpsc_src/library7.sub lib7.f\n",
    "!gfortran -c lib7.f -o lib7.o\n",
    "!gfortran -c schmid_factor.f -o schmid_factor.o\n",
    "\n",
    "objfiles=['crystal_symmetry.o','chg_basis.o','voigt.o','fake_xit.o',\n",
    "          'data_crystal_fe.o','funcs.o','lu_libs.o','thermo_emod_cte.o','lib_write.o']\n",
    "cmd='gfortran schmid_factor.o'\n",
    "for i, obj in enumerate(objfiles):\n",
    "    cmd=f'{cmd} {os.path.join(loc_obj,obj)}'\n",
    "\n",
    "cmd=f'{cmd} lib7.o -o schmid_factor'\n",
    "print(f'cmd: {cmd}')\n",
    "p=subprocess.Popen(cmd.split(),stdout=subprocess.PIPE,stderr=subprocess.PIPE)\n",
    "stdo,stde=p.communicate()\n",
    "print(stdo.decode()); print(stde.decode())"
   ]
  },
  {
   "cell_type": "markdown",
   "id": "288e2a7e-8fc6-4e7c-a5a7-a37bdae6a377",
   "metadata": {},
   "source": [
    "# Example stand-alone run of _schmid_factor_"
   ]
  },
  {
   "cell_type": "code",
   "execution_count": 4,
   "id": "cf5ed6b4-d252-400d-947d-f09d30e525f0",
   "metadata": {},
   "outputs": [
    {
     "name": "stdout",
     "output_type": "stream",
     "text": [
      "     1\t\u001b[1;43;234m         Stress tensor in crystal axes\u001b[0m                 \n",
      "     2\t    1.000    0.000    0.000\n",
      "     3\t    0.000    0.500    0.000\n",
      "     4\t    0.000    0.000    0.000\n",
      "     5\t\u001b[1;43;234m         sel 66\u001b[0m                 \n",
      "     6\t  113267.      -0.       0.       0.       0.    2216.\n",
      "     7\t       0.   70400.       0.       0.       0.      -0.\n",
      "     8\t       0.       0.   93400.       0.       0.       0.\n",
      "     9\t       0.       0.       0.   93400.       0.       0.\n",
      "    10\t       0.       0.       0.       0.  254400.       0.\n",
      "    11\t    2216.       0.       0.       0.       0.  321833.\n",
      "    12\tElastic energy:   295000.\n",
      "    13\t ** imod:           1\n",
      "    14\t dnca:   0.00  0.00  1.00  dbca:   1.00  0.00  0.00  schf:   0.0000  emod:   0.18E+06\n",
      "    15\t dnca:   0.00  0.00  1.00  dbca:  -0.50  0.87  0.00  schf:   0.0000  emod:   0.18E+06\n",
      "    16\t dnca:   0.00  0.00  1.00  dbca:  -0.50 -0.87  0.00  schf:   0.0000  emod:   0.18E+06\n",
      "    17\t\n",
      "    18\t ** imod:           2\n",
      "    19\t dnca:   0.87  0.50  0.00  dbca:  -0.50  0.87  0.00  schf:  -0.1936  emod:   0.23E+06\n",
      "    20\t dnca:   0.00 -1.00  0.00  dbca:   1.00  0.00  0.00  schf:   0.0000  emod:   0.16E+06\n",
      "    21\t dnca:  -0.87  0.50  0.00  dbca:  -0.50 -0.87  0.00  schf:   0.1936  emod:   0.23E+06\n",
      "    22\t\n",
      "    23\t ** imod:           3\n",
      "    24\t dnca:   0.76  0.44  0.48  dbca:  -0.27 -0.47  0.84  schf:  -0.2735  emod:   0.20E+06\n",
      "    25\t dnca:   0.76  0.44  0.48  dbca:  -0.54  0.00  0.84  schf:  -0.3647  emod:   0.20E+06\n",
      "    26\t dnca:   0.00 -0.88  0.48  dbca:   0.27  0.47  0.84  schf:  -0.1824  emod:   0.16E+06\n",
      "    27\t dnca:   0.00 -0.88  0.48  dbca:  -0.27  0.47  0.84  schf:  -0.1824  emod:   0.16E+06\n",
      "    28\t dnca:  -0.76  0.44  0.48  dbca:   0.54  0.00  0.84  schf:  -0.3647  emod:   0.20E+06\n",
      "    29\t dnca:  -0.76  0.44  0.48  dbca:   0.27 -0.47  0.84  schf:  -0.2735  emod:   0.20E+06\n",
      "    30\t dnca:  -0.76 -0.44  0.48  dbca:   0.54  0.00  0.84  schf:  -0.3647  emod:   0.20E+06\n",
      "    31\t dnca:  -0.76 -0.44  0.48  dbca:   0.27  0.47  0.84  schf:  -0.2735  emod:   0.20E+06\n",
      "    32\t dnca:   0.00  0.88  0.48  dbca:  -0.27 -0.47  0.84  schf:  -0.1824  emod:   0.16E+06\n",
      "    33\t dnca:   0.00  0.88  0.48  dbca:   0.27 -0.47  0.84  schf:  -0.1824  emod:   0.16E+06\n",
      "    34\t dnca:   0.76 -0.44  0.48  dbca:  -0.54  0.00  0.84  schf:  -0.3647  emod:   0.20E+06\n",
      "    35\t dnca:   0.76 -0.44  0.48  dbca:  -0.27  0.47  0.84  schf:  -0.2735  emod:   0.20E+06\n",
      "    36\t\n",
      "    37\t ** imod:           4\n",
      "    38\t dnca:   0.84  0.00  0.54  dbca:   0.54  0.00 -0.84  schf:   0.4056  emod:   0.16E+06\n",
      "    39\t dnca:   0.42  0.73  0.54  dbca:   0.27  0.47 -0.84  schf:   0.2535  emod:   0.20E+06\n",
      "    40\t dnca:  -0.42  0.73  0.54  dbca:  -0.27  0.47 -0.84  schf:   0.2535  emod:   0.20E+06\n",
      "    41\t dnca:  -0.84  0.00  0.54  dbca:  -0.54  0.00 -0.84  schf:   0.4056  emod:   0.16E+06\n",
      "    42\t dnca:  -0.42 -0.73  0.54  dbca:  -0.27 -0.47 -0.84  schf:   0.2535  emod:   0.20E+06\n",
      "    43\t dnca:   0.42 -0.73  0.54  dbca:   0.27 -0.47 -0.84  schf:   0.2535  emod:   0.20E+06\n",
      "    44\t\n",
      "CPU times: user 6.97 ms, sys: 5 ms, total: 12 ms\n",
      "Wall time: 428 ms\n"
     ]
    }
   ],
   "source": [
    "%%time\n",
    "## executable     single crystal file name                                            #S11, S22, S33, S23, S13, S12\n",
    "!./schmid_factor /Users/youngung/repo/evpsc/matData/vpscData/CP-Ti-ICN/dd_298.sx        1.   0.5   0.   0.   0.   0. | cat -n \n",
    "#!./schmid_factor /Users/youngung/repo/evpsc/matData/vpscData/STS304/STS304.sx           1.   0.5   0.   0.   0.   0.\n",
    "\n",
    "#!./schmid_factor /Users/youngung/repo/evpsc/examples/ex14_rex/NiFe.sx 1 0.5 0. 0. 0. 0."
   ]
  },
  {
   "cell_type": "markdown",
   "id": "11fc8223-a8a4-4eba-ad4a-60f4dff0b746",
   "metadata": {},
   "source": [
    "# Wrapper"
   ]
  },
  {
   "cell_type": "code",
   "execution_count": 5,
   "id": "57c30932-0cb8-49ca-8ea5-129c4f071bd9",
   "metadata": {},
   "outputs": [],
   "source": [
    "def calc_sch(fnsx,stress,imod):\n",
    "    cmd=f'./schmid_factor {fnsx}'\n",
    "    for i, val in enumerate(stress):\n",
    "        cmd=f'{cmd} {val}'\n",
    "    p=subprocess.Popen(cmd.split(),stdout=subprocess.PIPE,stderr=subprocess.PIPE)\n",
    "    stdout,stderr=p.communicate() \n",
    "    rst_lines=stdout.decode().split('\\n')\n",
    "\n",
    "    ## -----------------------------------------\n",
    "    ## elastic energy\n",
    "    energy_el=float(rst_lines[11].split()[-1])\n",
    "\n",
    "    ## -----------------------------------------\n",
    "    ## extract schmid factor calculation results\n",
    "    for i, line in enumerate(rst_lines):\n",
    "        if line[:3]==' **': \n",
    "            i0=i\n",
    "            break\n",
    "    rst=rst_lines[i0:]\n",
    "    ind0=[];ind1=[]\n",
    "    for i, line in enumerate(rst):\n",
    "        if line[:3]==' **':\n",
    "            ind0.append(i+1)\n",
    "        if line=='':\n",
    "            ind1.append(i)\n",
    "    #print('ind0, ind1')\n",
    "    #print(ind0)\n",
    "    #print(ind1)\n",
    "    rst_mode=rst[ind0[imod]:ind1[imod]]\n",
    "    schfs=np.zeros(len(rst_mode))\n",
    "    emods=np.zeros(len(rst_mode))\n",
    "    for isys, line in enumerate(rst_mode):\n",
    "        schfs[isys]=float(line.split('schf:')[-1].split()[0])\n",
    "        emods[isys]=float(line.split('emod:')[-1].split()[0])\n",
    "    ## -----------------------------------------\n",
    "\n",
    "\n",
    "    \n",
    "    #return max(schfs)\n",
    "    return max(abs(schfs)), energy_el"
   ]
  },
  {
   "cell_type": "code",
   "execution_count": 6,
   "id": "d88fc674-c96f-499f-a531-7c14098279d6",
   "metadata": {},
   "outputs": [],
   "source": [
    "#%%time\n",
    "fnsx='/Users/youngung/repo/evpsc/matData/vpscData/CP-Ti-ICN/dd_298.sx'\n",
    "#fnsx='/Users/youngung/repo/evpsc/matData/vpscData/STS304/STS304.sx'\n",
    "#fnsx='/Users/youngung/repo/evpsc/matData/vpscData/DP_RGVB/F_voce.sx'\n",
    "#fnsx='/Users/youngung/repo/evpsc/matData/vpscData/STS304/STS304.sx'\n",
    "#fnsx='/Users/youngung/repo/evpsc/examples/ex14_rex/NiFe.sx'\n",
    "stress=[0.,-0.5,-1,  0.,0.,0.]\n",
    "ijvs=[[0,0],[1,1],[2,2],[1,2],[0,2],[0,1]]\n",
    "## stress tensor in cartesian basis\n",
    "sig=np.zeros((3,3))\n",
    "for iv in range(6):\n",
    "    i,j=ijvs[iv]\n",
    "    sig[i,j]=stress[iv]\n",
    "    sig[j,i]=sig[i,j]\n",
    "#rst=calc_sch(fnsx=fnsx,stress=stress,imod=0)"
   ]
  },
  {
   "cell_type": "code",
   "execution_count": 7,
   "id": "99ea3f41-bfd5-4fb3-ae4b-3c30db068350",
   "metadata": {},
   "outputs": [],
   "source": [
    "nx,ny=20,20\n",
    "phi1=np.linspace(0,90,nx)# * np.pi/180.\n",
    "Phi =np.linspace(0,90,ny)# * np.pi/180.\n",
    "phi1,Phi=np.meshgrid(phi1,Phi)"
   ]
  },
  {
   "cell_type": "code",
   "execution_count": null,
   "id": "88618251-272a-46f0-9da7-e45b5ef85499",
   "metadata": {},
   "outputs": [],
   "source": [
    "%%time\n",
    "nmodes=3\n",
    "phi2s=[0,45.,65]\n",
    "schmid=np.zeros((len(phi2s),nmodes,*phi1.shape))\n",
    "enerel=np.zeros((len(phi2s),*phi1.shape))\n",
    "\n",
    "for i, phi2 in enumerate(phi2s):\n",
    "    for ix in range(nx):\n",
    "        for iy in range(ny):\n",
    "            for imod in range(nmodes): \n",
    "                A=euler.euler(ph=phi1[ix,iy],th=Phi[ix,iy],tm=phi2,echo=False)\n",
    "                newsig=transf(A,sig)\n",
    "                newsig=cart2voigt(newsig)\n",
    "                schmid[i,imod,ix,iy],energy=calc_sch(fnsx=fnsx,stress=newsig,imod=imod)\n",
    "            ##\n",
    "            enerel[i,ix,iy]=energy/1e3"
   ]
  },
  {
   "cell_type": "markdown",
   "id": "1b8368fc-473a-42ad-bbb0-9602d32ce404",
   "metadata": {},
   "source": [
    "# Schmid factor maps"
   ]
  },
  {
   "cell_type": "code",
   "execution_count": null,
   "id": "dd488f79-374a-4fe3-be49-929970f07354",
   "metadata": {},
   "outputs": [],
   "source": [
    "fig,axes=gen_fig(nrows=len(phi2s),ncols=nmodes+1,wspace=0.1,hspace=0.1,colsize=3)\n",
    "\n",
    "kwargs=dict(cmap='inferno',levels=np.linspace(0.,0.5,6))\n",
    "kwargs_el=kwargs.copy()\n",
    "kwargs_el.update(levels=np.linspace(300,500,11))\n",
    "cnts=np.empty((len(phi2s),nmodes+1),dtype='object')\n",
    "for i, phi2 in enumerate(phi2s):\n",
    "    for imod in range(nmodes):\n",
    "        cnt=axes[i,imod].contourf(phi1,Phi,schmid[i,imod],**kwargs)\n",
    "        cnts[i,imod]=cnt\n",
    "        #plt.colorbar(cnt)\n",
    "    cnt=axes[i,-1].contourf(phi1,Phi,enerel[i],**kwargs_el)\n",
    "    cnts[i,imod+1]=cnt\n",
    "    #plt.colorbar(cnt)\n",
    "\n",
    "## decoration\n",
    "for i, phi2 in enumerate(phi2s):\n",
    "    for imod in range(nmodes+1):\n",
    "        if i==0:\n",
    "            if imod<nmodes : axes[i,imod].set_title(f'Mode {imod+1}')\n",
    "            if imod==nmodes: axes[i,imod].set_title(r'$\\mathbb{M}^{el}_{ijkl}\\sigma_{ij}\\sigma_{kl}$ [GPa]')\n",
    "    \n",
    "        axes[i,imod].set_ylim(90,0)\n",
    "        axes[i,imod].set_xticks(np.linspace(0,90,4))\n",
    "        axes[i,imod].set_yticks(np.linspace(0,90,4))\n",
    "        axes[i,imod].set_xlabel(r'$\\phi_1\\ [\\degree]$')\n",
    "        axes[i,imod].set_ylabel(r'$\\Phi\\ [\\degree]$')\n",
    "        axes[i,imod].scatter(phi1,Phi,marker='+',s=1,c='k',alpha=0.2)\n",
    "\n",
    "        axes[i,imod].text(0.1,0.1,s=r'$\\phi_2= %3.0f\\degree$'%phi2,ha='left',transform=axes[i,imod].transAxes,c='k',fontsize=6)\n",
    "\n",
    "\n",
    "        if not(i==len(phi2s)-1 and imod==0): \n",
    "            axes[i,imod].axes.get_xaxis().set_visible(False)\n",
    "            axes[i,imod].axes.get_yaxis().set_visible(False)\n",
    "\n",
    "        plt.colorbar(cnts[i,imod])"
   ]
  }
 ],
 "metadata": {
  "kernelspec": {
   "display_name": "Python 3 (ipykernel)",
   "language": "python",
   "name": "python3"
  },
  "language_info": {
   "codemirror_mode": {
    "name": "ipython",
    "version": 3
   },
   "file_extension": ".py",
   "mimetype": "text/x-python",
   "name": "python",
   "nbconvert_exporter": "python",
   "pygments_lexer": "ipython3",
   "version": "3.12.2"
  }
 },
 "nbformat": 4,
 "nbformat_minor": 5
}
